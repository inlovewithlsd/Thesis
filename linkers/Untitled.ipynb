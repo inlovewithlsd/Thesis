{
 "cells": [
  {
   "cell_type": "code",
   "execution_count": 56,
   "id": "c42f6ce9-0ee3-451c-bf89-792ced8c3d6c",
   "metadata": {},
   "outputs": [],
   "source": [
    "import json\n",
    "import pandas as pd"
   ]
  },
  {
   "cell_type": "markdown",
   "id": "c3e232a7-553e-4d85-8b7d-2a2e7ef123f9",
   "metadata": {},
   "source": [
    "# Load datasets"
   ]
  },
  {
   "cell_type": "code",
   "execution_count": 2,
   "id": "f2508d50-ba07-40c9-bc58-9bf7c0b07982",
   "metadata": {},
   "outputs": [],
   "source": [
    "rubq = json.load(open('../data/preprocessed/rubq/rubq_train.json'))['dataset']\n",
    "qald = json.load(open('../data/preprocessed/qald/qald_train.json'))['dataset']\n",
    "pat = json.load(open('../data/preprocessed/pat/pat_train.json'))['dataset']\n",
    "lcquad = json.load(open('../data/preprocessed/lcquad_2.0/lcquad_2.0_train.json'))['dataset']"
   ]
  },
  {
   "cell_type": "code",
   "execution_count": 3,
   "id": "3f2e2d37-f52e-4937-8b92-96d3ba0e7a0b",
   "metadata": {},
   "outputs": [],
   "source": [
    "relations_info = json.load(open('storage/wikidata_relations_info.json'))"
   ]
  },
  {
   "cell_type": "code",
   "execution_count": 26,
   "id": "a1f3690d-6429-4d63-bd6b-06e713d2b78c",
   "metadata": {},
   "outputs": [],
   "source": [
    "rel_stats = {}\n",
    "\n",
    "for item in rubq:\n",
    "    for rel_id in item['relations']['query'].keys():\n",
    "        rel_stats[rel_id] = rel_stats.get(rel_id, []) + [item['en_question']]"
   ]
  },
  {
   "cell_type": "markdown",
   "id": "3556ffeb-fca1-4bdf-8335-fd67dc1575ae",
   "metadata": {},
   "source": [
    "# Embeddings"
   ]
  },
  {
   "cell_type": "code",
   "execution_count": 33,
   "id": "9102558f-c251-4d04-afa6-48042c524be8",
   "metadata": {},
   "outputs": [],
   "source": [
    "from sentence_transformers import SentenceTransformer\n",
    "import numpy as np"
   ]
  },
  {
   "cell_type": "code",
   "execution_count": 89,
   "id": "b6793557-6e49-4b56-a97b-846c7ff28990",
   "metadata": {},
   "outputs": [],
   "source": [
    "class SentenceRelationLinker:\n",
    "    def __init__(self, rel_stats):\n",
    "        self.st_model = SentenceTransformer('all-mpnet-base-v2')\n",
    "        \n",
    "        self.rel_embeddings = {}\n",
    "        for rel_id, sents in rel_stats.items():\n",
    "            self.rel_embeddings[rel_id] = self.avg_sentence_embedding(sents)\n",
    "\n",
    "    \n",
    "    def avg_sentence_embedding(self, sentences):\n",
    "        embeddings = self.st_model.encode(sentences, convert_to_tensor=False)  # as numpy array\n",
    "        return np.mean(embeddings, axis=0)\n",
    "        \n",
    "    def top_k_similar_ids(self, new_sentence, k=2):\n",
    "        new_emb = self.avg_sentence_embedding([new_sentence])\n",
    "        scores = {}\n",
    "        for rel_id, emb in self.rel_embeddings.items():\n",
    "            sim = cosine_similarity(new_emb.reshape(1, -1), emb.reshape(1, -1))[0, 0]\n",
    "            scores[rel_id] = sim\n",
    "        sorted_ids = sorted(scores, key=lambda id_: scores[id_], reverse=True)\n",
    "        return sorted_ids[:k]"
   ]
  },
  {
   "cell_type": "markdown",
   "id": "24b63362-79e7-455f-b10e-6f262ccbae22",
   "metadata": {},
   "source": [
    "### Fit"
   ]
  },
  {
   "cell_type": "code",
   "execution_count": 83,
   "id": "baa8ea58-95bc-4028-8893-1dbd9b0852a6",
   "metadata": {},
   "outputs": [],
   "source": [
    "rubq = json.load(open('../data/preprocessed/rubq/rubq_train.json'))['dataset']\n",
    "qald = json.load(open('../data/preprocessed/qald/qald_train.json'))['dataset']\n",
    "pat = json.load(open('../data/preprocessed/pat/pat_train.json'))['dataset']\n",
    "lcquad = json.load(open('../data/preprocessed/lcquad_2.0/lcquad_2.0_train.json'))['dataset']\n",
    "\n",
    "rel_stats = {}\n",
    "\n",
    "for item in rubq:\n",
    "    for rel_id in item['relations']['query'].keys():\n",
    "        rel_stats[rel_id] = rel_stats.get(rel_id, []) + [item['en_question']]\n",
    "\n",
    "for item in qald:\n",
    "    for rel_id in item['relations']['query'].keys():\n",
    "        rel_stats[rel_id] = rel_stats.get(rel_id, []) + [item['en_question']]\n",
    "\n",
    "for item in pat:\n",
    "    for rel_id in item['relations']['query'].keys():\n",
    "        rel_stats[rel_id] = rel_stats.get(rel_id, []) + [item['en_question']]\n",
    "\n",
    "for item in lcquad:\n",
    "    for rel_id in item['relations']['query'].keys():\n",
    "        rel_stats[rel_id] = rel_stats.get(rel_id, []) + [item['en_question']]"
   ]
  },
  {
   "cell_type": "code",
   "execution_count": 90,
   "id": "43ae50b5-b979-452c-a632-41d03ab56058",
   "metadata": {},
   "outputs": [],
   "source": [
    "linker = SentenceRelationLinker(rel_stats)"
   ]
  },
  {
   "cell_type": "markdown",
   "id": "ad6a6cd5-f066-43ac-96d9-5f72f0dbc07e",
   "metadata": {},
   "source": [
    "### Validate"
   ]
  },
  {
   "cell_type": "code",
   "execution_count": 109,
   "id": "7290c2c8-153d-4260-b3ee-9b0204d8d9df",
   "metadata": {},
   "outputs": [],
   "source": [
    "def calculate_metircs(dataset, relation_linker):\n",
    "    tp, fp, fn = 0, 0, 0\n",
    "    \n",
    "    for item in tqdm(dataset):\n",
    "        actual = set(item['relations']['query'].keys())\n",
    "        predicted = set(relation_linker(item['en_question']))\n",
    "\n",
    "        tp += len(predicted & actual)  # True Positives\n",
    "        fp += len(predicted - actual)  # False Positives\n",
    "        fn += len(actual - predicted) # False Negatives\n",
    "\n",
    "    confusion_matrix = pd.DataFrame(\n",
    "        [[tp, fp], [fn, tn]],\n",
    "        columns=[\"Positive\", \"Negative\"],\n",
    "        index=[\"True\", \"False\"]\n",
    "    )\n",
    "\n",
    "    precision = tp / (tp + fp) if (tp + fp) > 0 else 0.0\n",
    "    recall = tp / (tp + fn) if (tp + fn) > 0 else 0.0\n",
    "    f1 = 2 * (precision * recall) / (precision + recall) if (precision + recall) > 0 else 0.0\n",
    "    accuracy = tp / (tp + fp + fn) if (tp + fp + fn) > 0 else 0.0\n",
    "\n",
    "    return {\n",
    "        \"f1\": f1,\n",
    "        \"precision\": precision,\n",
    "        \"recall\": recall,\n",
    "        \"accuracy\": accuracy,\n",
    "    }, confusion_matrix\n"
   ]
  },
  {
   "cell_type": "code",
   "execution_count": 124,
   "id": "41fc3f08-6c0d-4fc1-86b6-d009ff3e9c22",
   "metadata": {},
   "outputs": [
    {
     "name": "stderr",
     "output_type": "stream",
     "text": [
      "100%|█████████████████████████████████████████| 480/480 [03:15<00:00,  2.46it/s]\n",
      "100%|█████████████████████████████████████████| 386/386 [02:36<00:00,  2.46it/s]\n",
      "100%|███████████████████████████████████████| 4541/4541 [30:39<00:00,  2.47it/s]\n",
      "100%|███████████████████████████████████████| 1199/1199 [07:58<00:00,  2.51it/s]\n",
      "100%|█████████████████████████████████████████| 480/480 [03:13<00:00,  2.47it/s]\n",
      "100%|█████████████████████████████████████████| 386/386 [02:35<00:00,  2.48it/s]\n",
      "100%|███████████████████████████████████████| 4541/4541 [30:43<00:00,  2.46it/s]\n",
      "100%|███████████████████████████████████████| 1199/1199 [07:59<00:00,  2.50it/s]\n",
      "100%|█████████████████████████████████████████| 480/480 [03:13<00:00,  2.48it/s]\n",
      "100%|█████████████████████████████████████████| 386/386 [02:34<00:00,  2.50it/s]\n",
      "100%|███████████████████████████████████████| 4541/4541 [30:37<00:00,  2.47it/s]\n",
      "100%|███████████████████████████████████████| 1199/1199 [07:58<00:00,  2.51it/s]\n",
      "100%|█████████████████████████████████████████| 480/480 [03:13<00:00,  2.48it/s]\n",
      "100%|█████████████████████████████████████████| 386/386 [02:34<00:00,  2.50it/s]\n",
      "100%|███████████████████████████████████████| 4541/4541 [30:35<00:00,  2.47it/s]\n",
      "100%|███████████████████████████████████████| 1199/1199 [07:56<00:00,  2.52it/s]\n",
      "100%|█████████████████████████████████████████| 480/480 [03:13<00:00,  2.49it/s]\n",
      "100%|█████████████████████████████████████████| 386/386 [02:34<00:00,  2.49it/s]\n",
      "100%|███████████████████████████████████████| 4541/4541 [30:48<00:00,  2.46it/s]\n",
      "100%|███████████████████████████████████████| 1199/1199 [07:59<00:00,  2.50it/s]\n",
      "100%|█████████████████████████████████████████| 480/480 [03:14<00:00,  2.46it/s]\n",
      "100%|█████████████████████████████████████████| 386/386 [02:35<00:00,  2.48it/s]\n",
      "100%|█████████████████████████████████████| 4541/4541 [2:23:37<00:00,  1.90s/it]\n",
      "100%|███████████████████████████████████████| 1199/1199 [34:14<00:00,  1.71s/it]\n",
      "100%|█████████████████████████████████████████| 480/480 [29:46<00:00,  3.72s/it]\n",
      "100%|█████████████████████████████████████████| 386/386 [02:33<00:00,  2.52it/s]\n",
      "100%|███████████████████████████████████████| 4541/4541 [52:18<00:00,  1.45it/s]\n",
      "100%|███████████████████████████████████████| 1199/1199 [07:55<00:00,  2.52it/s]\n"
     ]
    }
   ],
   "source": [
    "rubq_test = json.load(open('../data/preprocessed/rubq/rubq_test.json'))['dataset']\n",
    "qald_test = json.load(open('../data/preprocessed/qald/qald_test.json'))['dataset']\n",
    "pat_test = json.load(open('../data/preprocessed/pat/pat_test.json'))['dataset']\n",
    "lcquad_test = json.load(open('../data/preprocessed/lcquad_2.0/lcquad_2.0_test.json'))['dataset']\n",
    "\n",
    "datasets = {\n",
    "    'rubq': rubq_test,\n",
    "    'qald': qald_test,\n",
    "    'lcquad_2.0': lcquad_test,\n",
    "    'pat': pat_test\n",
    "}\n",
    "\n",
    "# results = {}\n",
    "\n",
    "# for k in [1, 2, 3, 5, 10, 15, 20]:\n",
    "#     table = pd.DataFrame(columns=['f1', 'precision', 'recall', 'accuracy'])\n",
    "#     relation_linker = lambda sentence: linker.top_k_similar_ids(sentence, k=k)\n",
    "#     for dataset_name, dataset in datasets.items():\n",
    "#         metrics, _ = calculate_metircs(dataset, relation_linker)\n",
    "#         table.loc[dataset_name]= pd.Series(metrics)\n",
    "\n",
    "#     results[k] = table"
   ]
  },
  {
   "cell_type": "code",
   "execution_count": 145,
   "id": "cf763d40-4022-4caf-a252-28c3ef2742c6",
   "metadata": {},
   "outputs": [
    {
     "data": {
      "text/html": [
       "<div>\n",
       "<style scoped>\n",
       "    .dataframe tbody tr th:only-of-type {\n",
       "        vertical-align: middle;\n",
       "    }\n",
       "\n",
       "    .dataframe tbody tr th {\n",
       "        vertical-align: top;\n",
       "    }\n",
       "\n",
       "    .dataframe thead th {\n",
       "        text-align: right;\n",
       "    }\n",
       "</style>\n",
       "<table border=\"1\" class=\"dataframe\">\n",
       "  <thead>\n",
       "    <tr style=\"text-align: right;\">\n",
       "      <th></th>\n",
       "      <th>f1</th>\n",
       "      <th>precision</th>\n",
       "      <th>recall</th>\n",
       "      <th>accuracy</th>\n",
       "    </tr>\n",
       "  </thead>\n",
       "  <tbody>\n",
       "    <tr>\n",
       "      <th>rubq</th>\n",
       "      <td>0.083992</td>\n",
       "      <td>0.044271</td>\n",
       "      <td>0.817308</td>\n",
       "      <td>0.043837</td>\n",
       "    </tr>\n",
       "    <tr>\n",
       "      <th>qald</th>\n",
       "      <td>0.098654</td>\n",
       "      <td>0.053627</td>\n",
       "      <td>0.615156</td>\n",
       "      <td>0.051886</td>\n",
       "    </tr>\n",
       "    <tr>\n",
       "      <th>lcquad_2.0</th>\n",
       "      <td>0.108890</td>\n",
       "      <td>0.058930</td>\n",
       "      <td>0.715412</td>\n",
       "      <td>0.057580</td>\n",
       "    </tr>\n",
       "    <tr>\n",
       "      <th>pat</th>\n",
       "      <td>0.251538</td>\n",
       "      <td>0.144037</td>\n",
       "      <td>0.991674</td>\n",
       "      <td>0.143863</td>\n",
       "    </tr>\n",
       "  </tbody>\n",
       "</table>\n",
       "</div>"
      ],
      "text/plain": [
       "                  f1  precision    recall  accuracy\n",
       "rubq        0.083992   0.044271  0.817308  0.043837\n",
       "qald        0.098654   0.053627  0.615156  0.051886\n",
       "lcquad_2.0  0.108890   0.058930  0.715412  0.057580\n",
       "pat         0.251538   0.144037  0.991674  0.143863"
      ]
     },
     "execution_count": 145,
     "metadata": {},
     "output_type": "execute_result"
    }
   ],
   "source": [
    "results[20]"
   ]
  },
  {
   "cell_type": "code",
   "execution_count": 143,
   "id": "08dae801-4819-49f8-bf3e-eec982eef9ce",
   "metadata": {},
   "outputs": [
    {
     "data": {
      "text/plain": [
       "['P36', 'P1376', 'P17', 'P630', 'P47', 'P3963', 'P131', 'P466', 'P150', 'P669']"
      ]
     },
     "execution_count": 143,
     "metadata": {},
     "output_type": "execute_result"
    }
   ],
   "source": [
    "relation_linker = lambda sentence: linker.top_k_similar_ids(sentence, k=10)\n",
    "\n",
    "relation_linker('What is the capital of France?')"
   ]
  },
  {
   "cell_type": "code",
   "execution_count": 140,
   "id": "8a24755b-52f5-47a9-afb6-be030292cb52",
   "metadata": {},
   "outputs": [
    {
     "data": {
      "application/vnd.plotly.v1+json": {
       "config": {
        "plotlyServerURL": "https://plot.ly"
       },
       "data": [
        {
         "mode": "lines+markers",
         "name": "f1",
         "type": "scatter",
         "visible": true,
         "x": [
          1,
          2,
          3,
          5,
          10,
          15,
          20
         ],
         "y": [
          0.37819692496104207,
          0.3719067379870975,
          0.3595441088777212,
          0.31124126359325266,
          0.22548580806819393,
          0.17102620312490194,
          0.13576855253470238
         ]
        },
        {
         "mode": "lines+markers",
         "name": "precision",
         "type": "scatter",
         "visible": "legendonly",
         "x": [
          1,
          2,
          3,
          5,
          10,
          15,
          20
         ],
         "y": [
          0.5465221965188931,
          0.3634777223745432,
          0.2980885205064013,
          0.21994702284580175,
          0.1369473436755173,
          0.09783250271657397,
          0.07521605618558852
         ]
        },
        {
         "mode": "lines+markers",
         "name": "recall",
         "type": "scatter",
         "visible": true,
         "x": [
          1,
          2,
          3,
          5,
          10,
          15,
          20
         ],
         "y": [
          0.3040969898706304,
          0.4087654537824849,
          0.4924398565392255,
          0.5868162367812702,
          0.7133224108446706,
          0.7630586686082725,
          0.7848874831374131
         ]
        },
        {
         "mode": "lines+markers",
         "name": "accuracy",
         "type": "scatter",
         "visible": "legendonly",
         "x": [
          1,
          2,
          3,
          5,
          10,
          15,
          20
         ],
         "y": [
          0.23540525439982996,
          0.23024799148562786,
          0.22249762634443138,
          0.1900287952704513,
          0.13162905383157703,
          0.09603129185500792,
          0.07429147800698555
         ]
        }
       ],
       "layout": {
        "autosize": true,
        "template": {
         "data": {
          "bar": [
           {
            "error_x": {
             "color": "#2a3f5f"
            },
            "error_y": {
             "color": "#2a3f5f"
            },
            "marker": {
             "line": {
              "color": "#E5ECF6",
              "width": 0.5
             },
             "pattern": {
              "fillmode": "overlay",
              "size": 10,
              "solidity": 0.2
             }
            },
            "type": "bar"
           }
          ],
          "barpolar": [
           {
            "marker": {
             "line": {
              "color": "#E5ECF6",
              "width": 0.5
             },
             "pattern": {
              "fillmode": "overlay",
              "size": 10,
              "solidity": 0.2
             }
            },
            "type": "barpolar"
           }
          ],
          "carpet": [
           {
            "aaxis": {
             "endlinecolor": "#2a3f5f",
             "gridcolor": "white",
             "linecolor": "white",
             "minorgridcolor": "white",
             "startlinecolor": "#2a3f5f"
            },
            "baxis": {
             "endlinecolor": "#2a3f5f",
             "gridcolor": "white",
             "linecolor": "white",
             "minorgridcolor": "white",
             "startlinecolor": "#2a3f5f"
            },
            "type": "carpet"
           }
          ],
          "choropleth": [
           {
            "colorbar": {
             "outlinewidth": 0,
             "ticks": ""
            },
            "type": "choropleth"
           }
          ],
          "contour": [
           {
            "colorbar": {
             "outlinewidth": 0,
             "ticks": ""
            },
            "colorscale": [
             [
              0,
              "#0d0887"
             ],
             [
              0.1111111111111111,
              "#46039f"
             ],
             [
              0.2222222222222222,
              "#7201a8"
             ],
             [
              0.3333333333333333,
              "#9c179e"
             ],
             [
              0.4444444444444444,
              "#bd3786"
             ],
             [
              0.5555555555555556,
              "#d8576b"
             ],
             [
              0.6666666666666666,
              "#ed7953"
             ],
             [
              0.7777777777777778,
              "#fb9f3a"
             ],
             [
              0.8888888888888888,
              "#fdca26"
             ],
             [
              1,
              "#f0f921"
             ]
            ],
            "type": "contour"
           }
          ],
          "contourcarpet": [
           {
            "colorbar": {
             "outlinewidth": 0,
             "ticks": ""
            },
            "type": "contourcarpet"
           }
          ],
          "heatmap": [
           {
            "colorbar": {
             "outlinewidth": 0,
             "ticks": ""
            },
            "colorscale": [
             [
              0,
              "#0d0887"
             ],
             [
              0.1111111111111111,
              "#46039f"
             ],
             [
              0.2222222222222222,
              "#7201a8"
             ],
             [
              0.3333333333333333,
              "#9c179e"
             ],
             [
              0.4444444444444444,
              "#bd3786"
             ],
             [
              0.5555555555555556,
              "#d8576b"
             ],
             [
              0.6666666666666666,
              "#ed7953"
             ],
             [
              0.7777777777777778,
              "#fb9f3a"
             ],
             [
              0.8888888888888888,
              "#fdca26"
             ],
             [
              1,
              "#f0f921"
             ]
            ],
            "type": "heatmap"
           }
          ],
          "heatmapgl": [
           {
            "colorbar": {
             "outlinewidth": 0,
             "ticks": ""
            },
            "colorscale": [
             [
              0,
              "#0d0887"
             ],
             [
              0.1111111111111111,
              "#46039f"
             ],
             [
              0.2222222222222222,
              "#7201a8"
             ],
             [
              0.3333333333333333,
              "#9c179e"
             ],
             [
              0.4444444444444444,
              "#bd3786"
             ],
             [
              0.5555555555555556,
              "#d8576b"
             ],
             [
              0.6666666666666666,
              "#ed7953"
             ],
             [
              0.7777777777777778,
              "#fb9f3a"
             ],
             [
              0.8888888888888888,
              "#fdca26"
             ],
             [
              1,
              "#f0f921"
             ]
            ],
            "type": "heatmapgl"
           }
          ],
          "histogram": [
           {
            "marker": {
             "pattern": {
              "fillmode": "overlay",
              "size": 10,
              "solidity": 0.2
             }
            },
            "type": "histogram"
           }
          ],
          "histogram2d": [
           {
            "colorbar": {
             "outlinewidth": 0,
             "ticks": ""
            },
            "colorscale": [
             [
              0,
              "#0d0887"
             ],
             [
              0.1111111111111111,
              "#46039f"
             ],
             [
              0.2222222222222222,
              "#7201a8"
             ],
             [
              0.3333333333333333,
              "#9c179e"
             ],
             [
              0.4444444444444444,
              "#bd3786"
             ],
             [
              0.5555555555555556,
              "#d8576b"
             ],
             [
              0.6666666666666666,
              "#ed7953"
             ],
             [
              0.7777777777777778,
              "#fb9f3a"
             ],
             [
              0.8888888888888888,
              "#fdca26"
             ],
             [
              1,
              "#f0f921"
             ]
            ],
            "type": "histogram2d"
           }
          ],
          "histogram2dcontour": [
           {
            "colorbar": {
             "outlinewidth": 0,
             "ticks": ""
            },
            "colorscale": [
             [
              0,
              "#0d0887"
             ],
             [
              0.1111111111111111,
              "#46039f"
             ],
             [
              0.2222222222222222,
              "#7201a8"
             ],
             [
              0.3333333333333333,
              "#9c179e"
             ],
             [
              0.4444444444444444,
              "#bd3786"
             ],
             [
              0.5555555555555556,
              "#d8576b"
             ],
             [
              0.6666666666666666,
              "#ed7953"
             ],
             [
              0.7777777777777778,
              "#fb9f3a"
             ],
             [
              0.8888888888888888,
              "#fdca26"
             ],
             [
              1,
              "#f0f921"
             ]
            ],
            "type": "histogram2dcontour"
           }
          ],
          "mesh3d": [
           {
            "colorbar": {
             "outlinewidth": 0,
             "ticks": ""
            },
            "type": "mesh3d"
           }
          ],
          "parcoords": [
           {
            "line": {
             "colorbar": {
              "outlinewidth": 0,
              "ticks": ""
             }
            },
            "type": "parcoords"
           }
          ],
          "pie": [
           {
            "automargin": true,
            "type": "pie"
           }
          ],
          "scatter": [
           {
            "fillpattern": {
             "fillmode": "overlay",
             "size": 10,
             "solidity": 0.2
            },
            "type": "scatter"
           }
          ],
          "scatter3d": [
           {
            "line": {
             "colorbar": {
              "outlinewidth": 0,
              "ticks": ""
             }
            },
            "marker": {
             "colorbar": {
              "outlinewidth": 0,
              "ticks": ""
             }
            },
            "type": "scatter3d"
           }
          ],
          "scattercarpet": [
           {
            "marker": {
             "colorbar": {
              "outlinewidth": 0,
              "ticks": ""
             }
            },
            "type": "scattercarpet"
           }
          ],
          "scattergeo": [
           {
            "marker": {
             "colorbar": {
              "outlinewidth": 0,
              "ticks": ""
             }
            },
            "type": "scattergeo"
           }
          ],
          "scattergl": [
           {
            "marker": {
             "colorbar": {
              "outlinewidth": 0,
              "ticks": ""
             }
            },
            "type": "scattergl"
           }
          ],
          "scattermapbox": [
           {
            "marker": {
             "colorbar": {
              "outlinewidth": 0,
              "ticks": ""
             }
            },
            "type": "scattermapbox"
           }
          ],
          "scatterpolar": [
           {
            "marker": {
             "colorbar": {
              "outlinewidth": 0,
              "ticks": ""
             }
            },
            "type": "scatterpolar"
           }
          ],
          "scatterpolargl": [
           {
            "marker": {
             "colorbar": {
              "outlinewidth": 0,
              "ticks": ""
             }
            },
            "type": "scatterpolargl"
           }
          ],
          "scatterternary": [
           {
            "marker": {
             "colorbar": {
              "outlinewidth": 0,
              "ticks": ""
             }
            },
            "type": "scatterternary"
           }
          ],
          "surface": [
           {
            "colorbar": {
             "outlinewidth": 0,
             "ticks": ""
            },
            "colorscale": [
             [
              0,
              "#0d0887"
             ],
             [
              0.1111111111111111,
              "#46039f"
             ],
             [
              0.2222222222222222,
              "#7201a8"
             ],
             [
              0.3333333333333333,
              "#9c179e"
             ],
             [
              0.4444444444444444,
              "#bd3786"
             ],
             [
              0.5555555555555556,
              "#d8576b"
             ],
             [
              0.6666666666666666,
              "#ed7953"
             ],
             [
              0.7777777777777778,
              "#fb9f3a"
             ],
             [
              0.8888888888888888,
              "#fdca26"
             ],
             [
              1,
              "#f0f921"
             ]
            ],
            "type": "surface"
           }
          ],
          "table": [
           {
            "cells": {
             "fill": {
              "color": "#EBF0F8"
             },
             "line": {
              "color": "white"
             }
            },
            "header": {
             "fill": {
              "color": "#C8D4E3"
             },
             "line": {
              "color": "white"
             }
            },
            "type": "table"
           }
          ]
         },
         "layout": {
          "annotationdefaults": {
           "arrowcolor": "#2a3f5f",
           "arrowhead": 0,
           "arrowwidth": 1
          },
          "autotypenumbers": "strict",
          "coloraxis": {
           "colorbar": {
            "outlinewidth": 0,
            "ticks": ""
           }
          },
          "colorscale": {
           "diverging": [
            [
             0,
             "#8e0152"
            ],
            [
             0.1,
             "#c51b7d"
            ],
            [
             0.2,
             "#de77ae"
            ],
            [
             0.3,
             "#f1b6da"
            ],
            [
             0.4,
             "#fde0ef"
            ],
            [
             0.5,
             "#f7f7f7"
            ],
            [
             0.6,
             "#e6f5d0"
            ],
            [
             0.7,
             "#b8e186"
            ],
            [
             0.8,
             "#7fbc41"
            ],
            [
             0.9,
             "#4d9221"
            ],
            [
             1,
             "#276419"
            ]
           ],
           "sequential": [
            [
             0,
             "#0d0887"
            ],
            [
             0.1111111111111111,
             "#46039f"
            ],
            [
             0.2222222222222222,
             "#7201a8"
            ],
            [
             0.3333333333333333,
             "#9c179e"
            ],
            [
             0.4444444444444444,
             "#bd3786"
            ],
            [
             0.5555555555555556,
             "#d8576b"
            ],
            [
             0.6666666666666666,
             "#ed7953"
            ],
            [
             0.7777777777777778,
             "#fb9f3a"
            ],
            [
             0.8888888888888888,
             "#fdca26"
            ],
            [
             1,
             "#f0f921"
            ]
           ],
           "sequentialminus": [
            [
             0,
             "#0d0887"
            ],
            [
             0.1111111111111111,
             "#46039f"
            ],
            [
             0.2222222222222222,
             "#7201a8"
            ],
            [
             0.3333333333333333,
             "#9c179e"
            ],
            [
             0.4444444444444444,
             "#bd3786"
            ],
            [
             0.5555555555555556,
             "#d8576b"
            ],
            [
             0.6666666666666666,
             "#ed7953"
            ],
            [
             0.7777777777777778,
             "#fb9f3a"
            ],
            [
             0.8888888888888888,
             "#fdca26"
            ],
            [
             1,
             "#f0f921"
            ]
           ]
          },
          "colorway": [
           "#636efa",
           "#EF553B",
           "#00cc96",
           "#ab63fa",
           "#FFA15A",
           "#19d3f3",
           "#FF6692",
           "#B6E880",
           "#FF97FF",
           "#FECB52"
          ],
          "font": {
           "color": "#2a3f5f"
          },
          "geo": {
           "bgcolor": "white",
           "lakecolor": "white",
           "landcolor": "#E5ECF6",
           "showlakes": true,
           "showland": true,
           "subunitcolor": "white"
          },
          "hoverlabel": {
           "align": "left"
          },
          "hovermode": "closest",
          "mapbox": {
           "style": "light"
          },
          "paper_bgcolor": "white",
          "plot_bgcolor": "#E5ECF6",
          "polar": {
           "angularaxis": {
            "gridcolor": "white",
            "linecolor": "white",
            "ticks": ""
           },
           "bgcolor": "#E5ECF6",
           "radialaxis": {
            "gridcolor": "white",
            "linecolor": "white",
            "ticks": ""
           }
          },
          "scene": {
           "xaxis": {
            "backgroundcolor": "#E5ECF6",
            "gridcolor": "white",
            "gridwidth": 2,
            "linecolor": "white",
            "showbackground": true,
            "ticks": "",
            "zerolinecolor": "white"
           },
           "yaxis": {
            "backgroundcolor": "#E5ECF6",
            "gridcolor": "white",
            "gridwidth": 2,
            "linecolor": "white",
            "showbackground": true,
            "ticks": "",
            "zerolinecolor": "white"
           },
           "zaxis": {
            "backgroundcolor": "#E5ECF6",
            "gridcolor": "white",
            "gridwidth": 2,
            "linecolor": "white",
            "showbackground": true,
            "ticks": "",
            "zerolinecolor": "white"
           }
          },
          "shapedefaults": {
           "line": {
            "color": "#2a3f5f"
           }
          },
          "ternary": {
           "aaxis": {
            "gridcolor": "white",
            "linecolor": "white",
            "ticks": ""
           },
           "baxis": {
            "gridcolor": "white",
            "linecolor": "white",
            "ticks": ""
           },
           "bgcolor": "#E5ECF6",
           "caxis": {
            "gridcolor": "white",
            "linecolor": "white",
            "ticks": ""
           }
          },
          "title": {
           "x": 0.05
          },
          "xaxis": {
           "automargin": true,
           "gridcolor": "white",
           "linecolor": "white",
           "ticks": "",
           "title": {
            "standoff": 15
           },
           "zerolinecolor": "white",
           "zerolinewidth": 2
          },
          "yaxis": {
           "automargin": true,
           "gridcolor": "white",
           "linecolor": "white",
           "ticks": "",
           "title": {
            "standoff": 15
           },
           "zerolinecolor": "white",
           "zerolinewidth": 2
          }
         }
        },
        "title": {
         "text": "Time Series of Averaged Column Values"
        },
        "xaxis": {
         "autorange": true,
         "range": [
          -0.15543779964673266,
          21.155437799646734
         ],
         "title": {
          "text": "Number of candidates"
         },
         "type": "linear"
        },
        "yaxis": {
         "autorange": true,
         "range": [
          0.08220048544612915,
          0.8384555502259863
         ],
         "title": {
          "text": "Averaged metric"
         },
         "type": "linear"
        }
       }
      },
      "image/png": "[encoded data removed]",
      "text/html": [
       "<div>                            <div id=\"32f61184-9c5b-4c03-a6ca-6bde1a9acdd7\" class=\"plotly-graph-div\" style=\"height:525px; width:100%;\"></div>            <script type=\"text/javascript\">                require([\"plotly\"], function(Plotly) {                    window.PLOTLYENV=window.PLOTLYENV || {};                                    if (document.getElementById(\"32f61184-9c5b-4c03-a6ca-6bde1a9acdd7\")) {                    Plotly.newPlot(                        \"32f61184-9c5b-4c03-a6ca-6bde1a9acdd7\",                        [{\"mode\":\"lines+markers\",\"name\":\"f1\",\"x\":[1,2,3,5,10,15,20],\"y\":[0.37819692496104207,0.3719067379870975,0.3595441088777212,0.31124126359325266,0.22548580806819393,0.17102620312490194,0.13576855253470238],\"type\":\"scatter\"},{\"mode\":\"lines+markers\",\"name\":\"precision\",\"x\":[1,2,3,5,10,15,20],\"y\":[0.5465221965188931,0.3634777223745432,0.2980885205064013,0.21994702284580175,0.1369473436755173,0.09783250271657397,0.07521605618558852],\"type\":\"scatter\"},{\"mode\":\"lines+markers\",\"name\":\"recall\",\"x\":[1,2,3,5,10,15,20],\"y\":[0.3040969898706304,0.4087654537824849,0.4924398565392255,0.5868162367812702,0.7133224108446706,0.7630586686082725,0.7848874831374131],\"type\":\"scatter\"},{\"mode\":\"lines+markers\",\"name\":\"accuracy\",\"x\":[1,2,3,5,10,15,20],\"y\":[0.23540525439982996,0.23024799148562786,0.22249762634443138,0.1900287952704513,0.13162905383157703,0.09603129185500792,0.07429147800698555],\"type\":\"scatter\"}],                        {\"template\":{\"data\":{\"histogram2dcontour\":[{\"type\":\"histogram2dcontour\",\"colorbar\":{\"outlinewidth\":0,\"ticks\":\"\"},\"colorscale\":[[0.0,\"#0d0887\"],[0.1111111111111111,\"#46039f\"],[0.2222222222222222,\"#7201a8\"],[0.3333333333333333,\"#9c179e\"],[0.4444444444444444,\"#bd3786\"],[0.5555555555555556,\"#d8576b\"],[0.6666666666666666,\"#ed7953\"],[0.7777777777777778,\"#fb9f3a\"],[0.8888888888888888,\"#fdca26\"],[1.0,\"#f0f921\"]]}],\"choropleth\":[{\"type\":\"choropleth\",\"colorbar\":{\"outlinewidth\":0,\"ticks\":\"\"}}],\"histogram2d\":[{\"type\":\"histogram2d\",\"colorbar\":{\"outlinewidth\":0,\"ticks\":\"\"},\"colorscale\":[[0.0,\"#0d0887\"],[0.1111111111111111,\"#46039f\"],[0.2222222222222222,\"#7201a8\"],[0.3333333333333333,\"#9c179e\"],[0.4444444444444444,\"#bd3786\"],[0.5555555555555556,\"#d8576b\"],[0.6666666666666666,\"#ed7953\"],[0.7777777777777778,\"#fb9f3a\"],[0.8888888888888888,\"#fdca26\"],[1.0,\"#f0f921\"]]}],\"heatmap\":[{\"type\":\"heatmap\",\"colorbar\":{\"outlinewidth\":0,\"ticks\":\"\"},\"colorscale\":[[0.0,\"#0d0887\"],[0.1111111111111111,\"#46039f\"],[0.2222222222222222,\"#7201a8\"],[0.3333333333333333,\"#9c179e\"],[0.4444444444444444,\"#bd3786\"],[0.5555555555555556,\"#d8576b\"],[0.6666666666666666,\"#ed7953\"],[0.7777777777777778,\"#fb9f3a\"],[0.8888888888888888,\"#fdca26\"],[1.0,\"#f0f921\"]]}],\"heatmapgl\":[{\"type\":\"heatmapgl\",\"colorbar\":{\"outlinewidth\":0,\"ticks\":\"\"},\"colorscale\":[[0.0,\"#0d0887\"],[0.1111111111111111,\"#46039f\"],[0.2222222222222222,\"#7201a8\"],[0.3333333333333333,\"#9c179e\"],[0.4444444444444444,\"#bd3786\"],[0.5555555555555556,\"#d8576b\"],[0.6666666666666666,\"#ed7953\"],[0.7777777777777778,\"#fb9f3a\"],[0.8888888888888888,\"#fdca26\"],[1.0,\"#f0f921\"]]}],\"contourcarpet\":[{\"type\":\"contourcarpet\",\"colorbar\":{\"outlinewidth\":0,\"ticks\":\"\"}}],\"contour\":[{\"type\":\"contour\",\"colorbar\":{\"outlinewidth\":0,\"ticks\":\"\"},\"colorscale\":[[0.0,\"#0d0887\"],[0.1111111111111111,\"#46039f\"],[0.2222222222222222,\"#7201a8\"],[0.3333333333333333,\"#9c179e\"],[0.4444444444444444,\"#bd3786\"],[0.5555555555555556,\"#d8576b\"],[0.6666666666666666,\"#ed7953\"],[0.7777777777777778,\"#fb9f3a\"],[0.8888888888888888,\"#fdca26\"],[1.0,\"#f0f921\"]]}],\"surface\":[{\"type\":\"surface\",\"colorbar\":{\"outlinewidth\":0,\"ticks\":\"\"},\"colorscale\":[[0.0,\"#0d0887\"],[0.1111111111111111,\"#46039f\"],[0.2222222222222222,\"#7201a8\"],[0.3333333333333333,\"#9c179e\"],[0.4444444444444444,\"#bd3786\"],[0.5555555555555556,\"#d8576b\"],[0.6666666666666666,\"#ed7953\"],[0.7777777777777778,\"#fb9f3a\"],[0.8888888888888888,\"#fdca26\"],[1.0,\"#f0f921\"]]}],\"mesh3d\":[{\"type\":\"mesh3d\",\"colorbar\":{\"outlinewidth\":0,\"ticks\":\"\"}}],\"scatter\":[{\"fillpattern\":{\"fillmode\":\"overlay\",\"size\":10,\"solidity\":0.2},\"type\":\"scatter\"}],\"parcoords\":[{\"type\":\"parcoords\",\"line\":{\"colorbar\":{\"outlinewidth\":0,\"ticks\":\"\"}}}],\"scatterpolargl\":[{\"type\":\"scatterpolargl\",\"marker\":{\"colorbar\":{\"outlinewidth\":0,\"ticks\":\"\"}}}],\"bar\":[{\"error_x\":{\"color\":\"#2a3f5f\"},\"error_y\":{\"color\":\"#2a3f5f\"},\"marker\":{\"line\":{\"color\":\"#E5ECF6\",\"width\":0.5},\"pattern\":{\"fillmode\":\"overlay\",\"size\":10,\"solidity\":0.2}},\"type\":\"bar\"}],\"scattergeo\":[{\"type\":\"scattergeo\",\"marker\":{\"colorbar\":{\"outlinewidth\":0,\"ticks\":\"\"}}}],\"scatterpolar\":[{\"type\":\"scatterpolar\",\"marker\":{\"colorbar\":{\"outlinewidth\":0,\"ticks\":\"\"}}}],\"histogram\":[{\"marker\":{\"pattern\":{\"fillmode\":\"overlay\",\"size\":10,\"solidity\":0.2}},\"type\":\"histogram\"}],\"scattergl\":[{\"type\":\"scattergl\",\"marker\":{\"colorbar\":{\"outlinewidth\":0,\"ticks\":\"\"}}}],\"scatter3d\":[{\"type\":\"scatter3d\",\"line\":{\"colorbar\":{\"outlinewidth\":0,\"ticks\":\"\"}},\"marker\":{\"colorbar\":{\"outlinewidth\":0,\"ticks\":\"\"}}}],\"scattermapbox\":[{\"type\":\"scattermapbox\",\"marker\":{\"colorbar\":{\"outlinewidth\":0,\"ticks\":\"\"}}}],\"scatterternary\":[{\"type\":\"scatterternary\",\"marker\":{\"colorbar\":{\"outlinewidth\":0,\"ticks\":\"\"}}}],\"scattercarpet\":[{\"type\":\"scattercarpet\",\"marker\":{\"colorbar\":{\"outlinewidth\":0,\"ticks\":\"\"}}}],\"carpet\":[{\"aaxis\":{\"endlinecolor\":\"#2a3f5f\",\"gridcolor\":\"white\",\"linecolor\":\"white\",\"minorgridcolor\":\"white\",\"startlinecolor\":\"#2a3f5f\"},\"baxis\":{\"endlinecolor\":\"#2a3f5f\",\"gridcolor\":\"white\",\"linecolor\":\"white\",\"minorgridcolor\":\"white\",\"startlinecolor\":\"#2a3f5f\"},\"type\":\"carpet\"}],\"table\":[{\"cells\":{\"fill\":{\"color\":\"#EBF0F8\"},\"line\":{\"color\":\"white\"}},\"header\":{\"fill\":{\"color\":\"#C8D4E3\"},\"line\":{\"color\":\"white\"}},\"type\":\"table\"}],\"barpolar\":[{\"marker\":{\"line\":{\"color\":\"#E5ECF6\",\"width\":0.5},\"pattern\":{\"fillmode\":\"overlay\",\"size\":10,\"solidity\":0.2}},\"type\":\"barpolar\"}],\"pie\":[{\"automargin\":true,\"type\":\"pie\"}]},\"layout\":{\"autotypenumbers\":\"strict\",\"colorway\":[\"#636efa\",\"#EF553B\",\"#00cc96\",\"#ab63fa\",\"#FFA15A\",\"#19d3f3\",\"#FF6692\",\"#B6E880\",\"#FF97FF\",\"#FECB52\"],\"font\":{\"color\":\"#2a3f5f\"},\"hovermode\":\"closest\",\"hoverlabel\":{\"align\":\"left\"},\"paper_bgcolor\":\"white\",\"plot_bgcolor\":\"#E5ECF6\",\"polar\":{\"bgcolor\":\"#E5ECF6\",\"angularaxis\":{\"gridcolor\":\"white\",\"linecolor\":\"white\",\"ticks\":\"\"},\"radialaxis\":{\"gridcolor\":\"white\",\"linecolor\":\"white\",\"ticks\":\"\"}},\"ternary\":{\"bgcolor\":\"#E5ECF6\",\"aaxis\":{\"gridcolor\":\"white\",\"linecolor\":\"white\",\"ticks\":\"\"},\"baxis\":{\"gridcolor\":\"white\",\"linecolor\":\"white\",\"ticks\":\"\"},\"caxis\":{\"gridcolor\":\"white\",\"linecolor\":\"white\",\"ticks\":\"\"}},\"coloraxis\":{\"colorbar\":{\"outlinewidth\":0,\"ticks\":\"\"}},\"colorscale\":{\"sequential\":[[0.0,\"#0d0887\"],[0.1111111111111111,\"#46039f\"],[0.2222222222222222,\"#7201a8\"],[0.3333333333333333,\"#9c179e\"],[0.4444444444444444,\"#bd3786\"],[0.5555555555555556,\"#d8576b\"],[0.6666666666666666,\"#ed7953\"],[0.7777777777777778,\"#fb9f3a\"],[0.8888888888888888,\"#fdca26\"],[1.0,\"#f0f921\"]],\"sequentialminus\":[[0.0,\"#0d0887\"],[0.1111111111111111,\"#46039f\"],[0.2222222222222222,\"#7201a8\"],[0.3333333333333333,\"#9c179e\"],[0.4444444444444444,\"#bd3786\"],[0.5555555555555556,\"#d8576b\"],[0.6666666666666666,\"#ed7953\"],[0.7777777777777778,\"#fb9f3a\"],[0.8888888888888888,\"#fdca26\"],[1.0,\"#f0f921\"]],\"diverging\":[[0,\"#8e0152\"],[0.1,\"#c51b7d\"],[0.2,\"#de77ae\"],[0.3,\"#f1b6da\"],[0.4,\"#fde0ef\"],[0.5,\"#f7f7f7\"],[0.6,\"#e6f5d0\"],[0.7,\"#b8e186\"],[0.8,\"#7fbc41\"],[0.9,\"#4d9221\"],[1,\"#276419\"]]},\"xaxis\":{\"gridcolor\":\"white\",\"linecolor\":\"white\",\"ticks\":\"\",\"title\":{\"standoff\":15},\"zerolinecolor\":\"white\",\"automargin\":true,\"zerolinewidth\":2},\"yaxis\":{\"gridcolor\":\"white\",\"linecolor\":\"white\",\"ticks\":\"\",\"title\":{\"standoff\":15},\"zerolinecolor\":\"white\",\"automargin\":true,\"zerolinewidth\":2},\"scene\":{\"xaxis\":{\"backgroundcolor\":\"#E5ECF6\",\"gridcolor\":\"white\",\"linecolor\":\"white\",\"showbackground\":true,\"ticks\":\"\",\"zerolinecolor\":\"white\",\"gridwidth\":2},\"yaxis\":{\"backgroundcolor\":\"#E5ECF6\",\"gridcolor\":\"white\",\"linecolor\":\"white\",\"showbackground\":true,\"ticks\":\"\",\"zerolinecolor\":\"white\",\"gridwidth\":2},\"zaxis\":{\"backgroundcolor\":\"#E5ECF6\",\"gridcolor\":\"white\",\"linecolor\":\"white\",\"showbackground\":true,\"ticks\":\"\",\"zerolinecolor\":\"white\",\"gridwidth\":2}},\"shapedefaults\":{\"line\":{\"color\":\"#2a3f5f\"}},\"annotationdefaults\":{\"arrowcolor\":\"#2a3f5f\",\"arrowhead\":0,\"arrowwidth\":1},\"geo\":{\"bgcolor\":\"white\",\"landcolor\":\"#E5ECF6\",\"subunitcolor\":\"white\",\"showland\":true,\"showlakes\":true,\"lakecolor\":\"white\"},\"title\":{\"x\":0.05},\"mapbox\":{\"style\":\"light\"}}},\"title\":{\"text\":\"Time Series of Averaged Column Values\"},\"xaxis\":{\"title\":{\"text\":\"Number of candidates\"}},\"yaxis\":{\"title\":{\"text\":\"Averaged metric\"}}},                        {\"responsive\": true}                    ).then(function(){\n",
       "                            \n",
       "var gd = document.getElementById('32f61184-9c5b-4c03-a6ca-6bde1a9acdd7');\n",
       "var x = new MutationObserver(function (mutations, observer) {{\n",
       "        var display = window.getComputedStyle(gd).display;\n",
       "        if (!display || display === 'none') {{\n",
       "            console.log([gd, 'removed!']);\n",
       "            Plotly.purge(gd);\n",
       "            observer.disconnect();\n",
       "        }}\n",
       "}});\n",
       "\n",
       "// Listen for the removal of the full notebook cells\n",
       "var notebookContainer = gd.closest('#notebook-container');\n",
       "if (notebookContainer) {{\n",
       "    x.observe(notebookContainer, {childList: true});\n",
       "}}\n",
       "\n",
       "// Listen for the clearing of the current output cell\n",
       "var outputEl = gd.closest('.output');\n",
       "if (outputEl) {{\n",
       "    x.observe(outputEl, {childList: true});\n",
       "}}\n",
       "\n",
       "                        })                };                });            </script>        </div>"
      ]
     },
     "metadata": {},
     "output_type": "display_data"
    }
   ],
   "source": [
    "import plotly.graph_objects as go\n",
    "\n",
    "aggregated_data = {key: df.mean(axis=0) for key, df in results.items()}\n",
    "df_plot = pd.DataFrame(aggregated_data).T \n",
    "\n",
    "fig = go.Figure()\n",
    "for column in df_plot.columns:\n",
    "    fig.add_trace(go.Scatter(x=df_plot.index, y=df_plot[column], mode='lines+markers', name=column))\n",
    "\n",
    "# Update layout\n",
    "fig.update_layout(\n",
    "    title=\"Time Series of Averaged Column Values\",\n",
    "    xaxis_title=\"Number of candidates\",\n",
    "    yaxis_title=\"Averaged metric\",\n",
    ")\n",
    "\n",
    "fig.show()"
   ]
  },
  {
   "cell_type": "code",
   "execution_count": null,
   "id": "432951ef-cce0-4ec3-9fb2-a79edf4723e6",
   "metadata": {},
   "outputs": [],
   "source": []
  }
 ],
 "metadata": {
  "kernelspec": {
   "display_name": "Python 3 (ipykernel)",
   "language": "python",
   "name": "python3"
  },
  "language_info": {
   "codemirror_mode": {
    "name": "ipython",
    "version": 3
   },
   "file_extension": ".py",
   "mimetype": "text/x-python",
   "name": "python",
   "nbconvert_exporter": "python",
   "pygments_lexer": "ipython3",
   "version": "3.11.8"
  }
 },
 "nbformat": 4,
 "nbformat_minor": 5
}
